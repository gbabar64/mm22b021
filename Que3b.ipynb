{
 "cells": [
  {
   "cell_type": "code",
   "execution_count": 7,
   "id": "e2d931ed",
   "metadata": {},
   "outputs": [
    {
     "data": {
      "image/png": "[encoded data removed]",
      "text/plain": [
       "<Figure size 432x288 with 1 Axes>"
      ]
     },
     "metadata": {
      "needs_background": "light"
     },
     "output_type": "display_data"
    },
    {
     "data": {
      "image/png": "[encoded data removed]",
      "text/plain": [
       "<Figure size 576x576 with 1 Axes>"
      ]
     },
     "metadata": {
      "needs_background": "light"
     },
     "output_type": "display_data"
    }
   ],
   "source": [
    "import numpy as np\n",
    "import matplotlib.pyplot as plt\n",
    "from matplotlib.patches import Circle\n",
    "\n",
    "T=np.zeros([100,100])\n",
    "lamda=0.2\n",
    "for i in range(0,100):\n",
    "    for j in range(0,100):\n",
    "        if ((i-50.5)**2+(j-50.5)**2) < 625:\n",
    "            T[i,j]=100\n",
    "            if ((i-50.5)**2+(j-50.5)**2) >= 625:\n",
    "                T[i,j]=0\n",
    "for steps in range(10):\n",
    "    T_up=np.copy(T)\n",
    "    for i in range(1,98):\n",
    "        for j in range(1,98):\n",
    "            T_up[i,j]=T[i,j]+lamda*(T[i+1,j])+T[i-1,j]+T[i,j-1]+T[i,j+1]-4*T[i,j]\n",
    "    for i in range(0,99):                       \n",
    "        T_up[i,0]=T_up[i,1]\n",
    "        T_up[i,99]=T_up[i,98]\n",
    "    for j in range(0,99):\n",
    "        T_up[0,j]=T_up[1,j]\n",
    "        T_up[99,j]=T_up[98,j]\n",
    "                    \n",
    "                    \n",
    "circle=plt.Circle((50.5,50.5),25,edgecolor='blue',facecolor='None')\n",
    "#fig, ax=plt.subplot()\n",
    "plt.gca().add_patch(circle)\n",
    "plt.figure(figsize=(8,8))\n",
    "\n",
    "\n",
    "#plt.gca().set_aspect('equal')\n",
    "plt.xlim(1,100)\n",
    "plt.ylim(1,100)\n",
    "plt.imshow(T,'viridis')\n",
    "plt.show()\n",
    "#iarray=[]\n",
    "#jarray=[]"
   ]
  },
  {
   "cell_type": "code",
   "execution_count": 4,
   "id": "01b73a88",
   "metadata": {},
   "outputs": [
    {
     "data": {
      "text/plain": [
       "(100, 100)"
      ]
     },
     "execution_count": 4,
     "metadata": {},
     "output_type": "execute_result"
    }
   ],
   "source": [
    "np.shape(T_up)"
   ]
  },
  {
   "cell_type": "code",
   "execution_count": null,
   "id": "b815ba60",
   "metadata": {},
   "outputs": [],
   "source": [
    "iarray=([[np.random.random_sample(100)],[np.random.random_sample(100)]])"
   ]
  },
  {
   "cell_type": "code",
   "execution_count": null,
   "id": "a3241cb4",
   "metadata": {},
   "outputs": [],
   "source": [
    "#t=list([[100,2],[30,3],[20,1]])\n",
    "t.append(float(np.random.random_sample(2)))\n",
    "t"
   ]
  },
  {
   "cell_type": "code",
   "execution_count": null,
   "id": "6d6f6234",
   "metadata": {},
   "outputs": [],
   "source": [
    "import numpy as np\n",
    "import matplotlib.pyplot as plt\n",
    "from mpl_toolkits.mplot3d import Axes3D\n",
    "\n",
    "# Define the size of the grid\n",
    "size_i = 100\n",
    "size_j = 100\n",
    "\n",
    "# Initialize the temperature grid\n",
    "T = np.zeros((size_i, size_j))\n",
    "\n",
    "# Perform the calculations for T based on your pseudo code\n",
    "# Assuming you have a loop that iterates over i and j to update T\n",
    "\n",
    "# Create a meshgrid for the i and j values\n",
    "i_values, j_values = np.meshgrid(range(2, size_i), range(2, size_j))\n",
    "\n",
    "# Create a 3D plot\n",
    "fig = plt.figure()\n",
    "ax = fig.add_subplot(111, projection='3d')\n",
    "\n",
    "# Plot the values of T\n",
    "ax.plot_surface(i_values, j_values, T[2:size_i, 2:size_j], cmap='hsv')\n",
    "\n",
    "# Set labels and title\n",
    "ax.set_xlabel('i')\n",
    "ax.set_ylabel('j')\n",
    "ax.set_zlabel('Temperature')\n",
    "ax.set_title('Temperature Distribution')\n",
    "\n",
    "# Show the plot\n",
    "plt.show()\n"
   ]
  },
  {
   "cell_type": "code",
   "execution_count": null,
   "id": "f1f7bbd8",
   "metadata": {},
   "outputs": [],
   "source": [
    "t=np.zeros([3,3])\n",
    "t"
   ]
  },
  {
   "cell_type": "code",
   "execution_count": null,
   "id": "72acb701",
   "metadata": {},
   "outputs": [],
   "source": [
    "import numpy as np\n",
    "import matplotlib.pyplot as plt\n",
    "from mpl_toolkits.mplot3d import Axes3D\n",
    "\n",
    "# Define the size of the grid\n",
    "size_i = 100\n",
    "size_j = 100\n",
    "\n",
    "# Initialize the temperature grid\n",
    "T = np.zeros((size_i, size_j))\n",
    "\n",
    "# Perform the calculations for T based on your pseudo code\n",
    "for i in range(2, size_i-1):\n",
    "    for j in range(2, size_j-1):\n",
    "        T[i, j] = T[i, j] + 0.2 * (T[i+1, j] + T[i-1, j] + T[i, j-1] + T[i, j+1] - 4 * T[i, j])\n",
    "for i in range(1,100):\n",
    "    for j in range(1,100):\n",
    "        T[i,1]=T[i,2]\n",
    "        T[i,10]=T[i,99]    \n",
    "        T[1,j]=T[2,j]\n",
    "        T[10,j]=T[99,j]\n",
    "# Create a meshgrid for the i and j values\n",
    "i_values, j_values = np.meshgrid(range(2, size_i), range(2, size_j))\n",
    "\n",
    "# Create a 3D plot\n",
    "fig = plt.figure()\n",
    "ax = fig.add_subplot(111, projection='3d')\n",
    "\n",
    "# Plot the values of T\n",
    "ax.plot_surface(i_values, j_values, T[2:size_i, 2:size_j], cmap='hsv')\n",
    "ax.plot_surface(i_values, j_values, T[1:size_i, 1:size_j], cmap='jet')\n",
    "\n",
    "# Set labels and title\n",
    "ax.set_xlabel('i')\n",
    "ax.set_ylabel('j')\n",
    "ax.set_zlabel('Temperature')\n",
    "ax.set_title('Temperature Distribution')\n",
    "\n",
    "# Show the plot\n",
    "plt.show()\n"
   ]
  },
  {
   "cell_type": "code",
   "execution_count": null,
   "id": "5e7dfb1b",
   "metadata": {},
   "outputs": [],
   "source": []
  },
  {
   "cell_type": "code",
   "execution_count": null,
   "id": "41b1d265",
   "metadata": {},
   "outputs": [],
   "source": []
  }
 ],
 "metadata": {
  "kernelspec": {
   "display_name": "Python 3 (ipykernel)",
   "language": "python",
   "name": "python3"
  },
  "language_info": {
   "codemirror_mode": {
    "name": "ipython",
    "version": 3
   },
   "file_extension": ".py",
   "mimetype": "text/x-python",
   "name": "python",
   "nbconvert_exporter": "python",
   "pygments_lexer": "ipython3",
   "version": "3.10.6"
  }
 },
 "nbformat": 4,
 "nbformat_minor": 5
}
